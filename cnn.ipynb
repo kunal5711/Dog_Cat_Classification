{
 "cells": [
  {
   "cell_type": "markdown",
   "id": "00eacaa6-9827-46f8-b5fb-9682c4cabf70",
   "metadata": {},
   "source": [
    "## Dog Cat Classifier"
   ]
  },
  {
   "cell_type": "code",
   "execution_count": 1,
   "id": "2a36eeaf-7022-4125-b962-b477b7e75fcc",
   "metadata": {},
   "outputs": [],
   "source": [
    "# Importing module\n",
    "from keras.models import Sequential\n",
    "from keras.layers import Conv2D\n",
    "from keras.layers import MaxPooling2D\n",
    "from keras.layers import Flatten\n",
    "from keras.layers import Dense"
   ]
  },
  {
   "cell_type": "markdown",
   "id": "0e1aee5c-896d-4cf7-99b7-04230d75876e",
   "metadata": {},
   "source": [
    "### Feature Selection"
   ]
  },
  {
   "cell_type": "code",
   "execution_count": 2,
   "id": "952f79c1-f3e6-4a9c-951e-63ed4927d777",
   "metadata": {},
   "outputs": [
    {
     "name": "stderr",
     "output_type": "stream",
     "text": [
      "C:\\Users\\Ps199\\Desktop\\Data Science\\Jupyter notebook\\env\\Lib\\site-packages\\keras\\src\\layers\\convolutional\\base_conv.py:107: UserWarning: Do not pass an `input_shape`/`input_dim` argument to a layer. When using Sequential models, prefer using an `Input(shape)` object as the first layer in the model instead.\n",
      "  super().__init__(activity_regularizer=activity_regularizer, **kwargs)\n"
     ]
    }
   ],
   "source": [
    "classifier = Sequential()\n",
    "\n",
    "classifier.add(Conv2D(32, (3,3), input_shape = (64,64,3), activation = 'relu'))    # Convolution layer\n",
    "classifier.add(MaxPooling2D(pool_size = (2,2)))    # Pooling Layer\n",
    "\n",
    "classifier.add(Flatten())"
   ]
  },
  {
   "cell_type": "markdown",
   "id": "6aae94c8-b232-4984-8a90-54a3e7d28dda",
   "metadata": {},
   "source": [
    "### Neural Layer"
   ]
  },
  {
   "cell_type": "code",
   "execution_count": 3,
   "id": "2c624560-3a7d-4c5e-949b-d862207928e1",
   "metadata": {},
   "outputs": [],
   "source": [
    "classifier.add(Dense(units = 128, activation = 'relu'))    # Input Layer\n",
    "classifier.add(Dense(units = 1, activation = 'sigmoid'))    # Output Layer\n",
    "classifier.compile(optimizer = 'adam', loss = 'binary_crossentropy', metrics = ['accuracy'])    # Configuring the layers"
   ]
  },
  {
   "cell_type": "markdown",
   "id": "865f10ab-d315-435d-8ce9-6982d6591ad6",
   "metadata": {},
   "source": [
    "### Fitting the CNN to images"
   ]
  },
  {
   "cell_type": "code",
   "execution_count": 4,
   "id": "f99b8c26-19f8-4aa7-b73d-aa1e8c458ff0",
   "metadata": {},
   "outputs": [
    {
     "name": "stdout",
     "output_type": "stream",
     "text": [
      "Found 200 images belonging to 8 classes.\n",
      "Found 200 images belonging to 8 classes.\n",
      "Epoch 1/10\n"
     ]
    },
    {
     "name": "stderr",
     "output_type": "stream",
     "text": [
      "C:\\Users\\Ps199\\Desktop\\Data Science\\Jupyter notebook\\env\\Lib\\site-packages\\keras\\src\\trainers\\data_adapters\\py_dataset_adapter.py:122: UserWarning: Your `PyDataset` class should call `super().__init__(**kwargs)` in its constructor. `**kwargs` can include `workers`, `use_multiprocessing`, `max_queue_size`. Do not pass these arguments to `fit()`, as they will be ignored.\n",
      "  self._warn_if_super_not_called()\n"
     ]
    },
    {
     "name": "stdout",
     "output_type": "stream",
     "text": [
      "\u001b[1m6/6\u001b[0m \u001b[32m━━━━━━━━━━━━━━━━━━━━\u001b[0m\u001b[37m\u001b[0m \u001b[1m8s\u001b[0m 293ms/step - accuracy: 0.0000e+00 - loss: -71.8832 - val_accuracy: 0.0000e+00 - val_loss: -405.1246\n",
      "Epoch 2/10\n",
      "\u001b[1m1/6\u001b[0m \u001b[32m━━━\u001b[0m\u001b[37m━━━━━━━━━━━━━━━━━\u001b[0m \u001b[1m0s\u001b[0m 82ms/step - accuracy: 0.0000e+00 - loss: -404.2643"
     ]
    },
    {
     "name": "stderr",
     "output_type": "stream",
     "text": [
      "C:\\Users\\Ps199\\Desktop\\Data Science\\Jupyter notebook\\env\\Lib\\contextlib.py:158: UserWarning: Your input ran out of data; interrupting training. Make sure that your dataset or generator can generate at least `steps_per_epoch * epochs` batches. You may need to use the `.repeat()` function when building your dataset.\n",
      "  self.gen.throw(value)\n"
     ]
    },
    {
     "name": "stdout",
     "output_type": "stream",
     "text": [
      "\u001b[1m6/6\u001b[0m \u001b[32m━━━━━━━━━━━━━━━━━━━━\u001b[0m\u001b[37m\u001b[0m \u001b[1m0s\u001b[0m 80ms/step - accuracy: 0.0000e+00 - loss: -404.2643 - val_accuracy: 0.0000e+00 - val_loss: -505.2625\n",
      "Epoch 3/10\n",
      "\u001b[1m6/6\u001b[0m \u001b[32m━━━━━━━━━━━━━━━━━━━━\u001b[0m\u001b[37m\u001b[0m \u001b[1m1s\u001b[0m 90ms/step - accuracy: 0.0000e+00 - loss: -695.2369 - val_accuracy: 0.0000e+00 - val_loss: -1354.7733\n",
      "Epoch 4/10\n",
      "\u001b[1m6/6\u001b[0m \u001b[32m━━━━━━━━━━━━━━━━━━━━\u001b[0m\u001b[37m\u001b[0m \u001b[1m1s\u001b[0m 89ms/step - accuracy: 0.0000e+00 - loss: -1386.5881 - val_accuracy: 0.0000e+00 - val_loss: -1582.7853\n",
      "Epoch 5/10\n",
      "\u001b[1m6/6\u001b[0m \u001b[32m━━━━━━━━━━━━━━━━━━━━\u001b[0m\u001b[37m\u001b[0m \u001b[1m2s\u001b[0m 111ms/step - accuracy: 0.0000e+00 - loss: -1903.6158 - val_accuracy: 0.0000e+00 - val_loss: -3406.8391\n",
      "Epoch 6/10\n",
      "\u001b[1m6/6\u001b[0m \u001b[32m━━━━━━━━━━━━━━━━━━━━\u001b[0m\u001b[37m\u001b[0m \u001b[1m0s\u001b[0m 8ms/step - accuracy: 0.0000e+00 - loss: -3448.2822 - val_accuracy: 0.0000e+00 - val_loss: -3653.6699\n",
      "Epoch 7/10\n",
      "\u001b[1m6/6\u001b[0m \u001b[32m━━━━━━━━━━━━━━━━━━━━\u001b[0m\u001b[37m\u001b[0m \u001b[1m2s\u001b[0m 178ms/step - accuracy: 0.0000e+00 - loss: -4456.3682 - val_accuracy: 0.0000e+00 - val_loss: -6879.9790\n",
      "Epoch 8/10\n",
      "\u001b[1m6/6\u001b[0m \u001b[32m━━━━━━━━━━━━━━━━━━━━\u001b[0m\u001b[37m\u001b[0m \u001b[1m0s\u001b[0m 53ms/step - accuracy: 0.0000e+00 - loss: -6637.4570 - val_accuracy: 0.0000e+00 - val_loss: -7640.2437\n",
      "Epoch 9/10\n",
      "\u001b[1m6/6\u001b[0m \u001b[32m━━━━━━━━━━━━━━━━━━━━\u001b[0m\u001b[37m\u001b[0m \u001b[1m1s\u001b[0m 89ms/step - accuracy: 0.0000e+00 - loss: -8837.7451 - val_accuracy: 0.0000e+00 - val_loss: -13397.2109\n",
      "Epoch 10/10\n",
      "\u001b[1m6/6\u001b[0m \u001b[32m━━━━━━━━━━━━━━━━━━━━\u001b[0m\u001b[37m\u001b[0m \u001b[1m1s\u001b[0m 93ms/step - accuracy: 0.0000e+00 - loss: -12938.4893 - val_accuracy: 0.0000e+00 - val_loss: -14008.5625\n"
     ]
    },
    {
     "name": "stderr",
     "output_type": "stream",
     "text": [
      "WARNING:absl:You are saving your model as an HDF5 file via `model.save()` or `keras.saving.save_model(model)`. This file format is considered legacy. We recommend using instead the native Keras format, e.g. `model.save('my_model.keras')` or `keras.saving.save_model(model, 'my_model.keras')`. \n"
     ]
    },
    {
     "name": "stdout",
     "output_type": "stream",
     "text": [
      "saved the model\n"
     ]
    }
   ],
   "source": [
    "from tensorflow.keras.preprocessing.image import ImageDataGenerator\n",
    "\n",
    "train_datagen = ImageDataGenerator(rescale = 1./255)\n",
    "test_datagen = ImageDataGenerator(rescale = 1./255)\n",
    "\n",
    "training_set = train_datagen.flow_from_directory(r\"C:\\Users\\Ps199\\Desktop\\Data Science\\Jupyter notebook\\CNN\\Dog_Cat_Classifier\",\n",
    "                                                 batch_size = 32,\n",
    "                                                 target_size = (64, 64),\n",
    "                                                 class_mode = 'binary')\n",
    "\n",
    "testing_set = test_datagen.flow_from_directory(r\"C:\\Users\\Ps199\\Desktop\\Data Science\\Jupyter notebook\\CNN\\Dog_Cat_Classifier\",\n",
    "                                               batch_size = 32, \n",
    "                                               target_size = (64,64),\n",
    "                                               class_mode = 'binary')\n",
    "\n",
    "model = classifier.fit(training_set, \n",
    "                       steps_per_epoch = 6,\n",
    "                       epochs = 10,\n",
    "                       validation_data = testing_set,\n",
    "                       validation_steps = 3)\n",
    "\n",
    "classifier.save(\"model.h5\")\n",
    "print(\"saved the model\")"
   ]
  },
  {
   "cell_type": "markdown",
   "id": "078d0daf-91ab-429c-b945-2d37544135bc",
   "metadata": {},
   "source": [
    "### Testing an Image"
   ]
  },
  {
   "cell_type": "code",
   "execution_count": 6,
   "id": "2c888eba-b8ee-4d0b-9cb9-3a89f111d2f7",
   "metadata": {},
   "outputs": [
    {
     "name": "stderr",
     "output_type": "stream",
     "text": [
      "WARNING:absl:Compiled the loaded model, but the compiled metrics have yet to be built. `model.compile_metrics` will be empty until you train or evaluate the model.\n"
     ]
    },
    {
     "name": "stdout",
     "output_type": "stream",
     "text": [
      "\u001b[1m1/1\u001b[0m \u001b[32m━━━━━━━━━━━━━━━━━━━━\u001b[0m\u001b[37m\u001b[0m \u001b[1m0s\u001b[0m 147ms/step\n",
      "dog\n"
     ]
    }
   ],
   "source": [
    "from tensorflow.keras.models import load_model\n",
    "from tensorflow.keras.preprocessing import image\n",
    "import numpy as np\n",
    "\n",
    "model = load_model(\"model.h5\")\n",
    "test_image = image.load_img(r\"C:\\Users\\Ps199\\Downloads\\doggy.jpg\", target_size = (64,64))\n",
    "test_image = image.img_to_array(test_image)\n",
    "test_image = np.expand_dims(test_image, axis = 0)\n",
    "result = model.predict(test_image)\n",
    "# print(training_set.class_indices)\n",
    "\n",
    "if result[0][0] == 1:\n",
    "  prediction = 'dog'\n",
    "else:\n",
    "  prediction = 'cat'\n",
    "\n",
    "print(prediction)"
   ]
  },
  {
   "cell_type": "code",
   "execution_count": null,
   "id": "34677754-64cf-49bd-a356-fe0b6cacf4cf",
   "metadata": {},
   "outputs": [],
   "source": []
  }
 ],
 "metadata": {
  "kernelspec": {
   "display_name": "Python 3 (ipykernel)",
   "language": "python",
   "name": "python3"
  },
  "language_info": {
   "codemirror_mode": {
    "name": "ipython",
    "version": 3
   },
   "file_extension": ".py",
   "mimetype": "text/x-python",
   "name": "python",
   "nbconvert_exporter": "python",
   "pygments_lexer": "ipython3",
   "version": "3.12.3"
  }
 },
 "nbformat": 4,
 "nbformat_minor": 5
}
